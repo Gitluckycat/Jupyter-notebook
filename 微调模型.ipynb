{
 "cells": [
  {
   "cell_type": "code",
   "execution_count": 2,
   "id": "1f369aa5-30f6-4950-8e9b-971eb8690504",
   "metadata": {
    "scrolled": true
   },
   "outputs": [
    {
     "name": "stdout",
     "output_type": "stream",
     "text": [
      "Downloading data from https://storage.googleapis.com/tensorflow/keras-applications/vgg16/vgg16_weights_tf_dim_ordering_tf_kernels_notop.h5\n",
      "58889256/58889256 [==============================] - 551s 9us/step\n"
     ]
    }
   ],
   "source": [
    "import tensorflow as tf\n",
    "from tensorflow import keras \n",
    "from tensorflow.keras.applications  import  VGG16\n",
    "\n",
    "# 加载预训练好的VGG16模型卷积基\n",
    "vgg_base = VGG16(weights=\"imagenet\", include_top=False, input_shape=(192, 192, 3))\n",
    "\n",
    "#冻结卷积基最后4层以外的层\n",
    "for layer in vgg_base.layers[:-4]:\n",
    "    layer.trainable = False"
   ]
  },
  {
   "cell_type": "code",
   "execution_count": 3,
   "id": "ba1172a9-c8bc-4ac6-9c8a-24a4f8aa2246",
   "metadata": {},
   "outputs": [
    {
     "name": "stderr",
     "output_type": "stream",
     "text": [
      "WARNING:absl:`lr` is deprecated, please use `learning_rate` instead, or use the legacy optimizer, e.g.,tf.keras.optimizers.legacy.RMSprop.\n"
     ]
    },
    {
     "name": "stdout",
     "output_type": "stream",
     "text": [
      "Model: \"sequential\"\n",
      "_________________________________________________________________\n",
      " Layer (type)                Output Shape              Param #   \n",
      "=================================================================\n",
      " vgg16 (Functional)          (None, 6, 6, 512)         14714688  \n",
      "                                                                 \n",
      " flatten (Flatten)           (None, 18432)             0         \n",
      "                                                                 \n",
      " dense (Dense)               (None, 512)               9437696   \n",
      "                                                                 \n",
      " dropout (Dropout)           (None, 512)               0         \n",
      "                                                                 \n",
      " dense_1 (Dense)             (None, 5)                 2565      \n",
      "                                                                 \n",
      "=================================================================\n",
      "Total params: 24,154,949\n",
      "Trainable params: 16,519,685\n",
      "Non-trainable params: 7,635,264\n",
      "_________________________________________________________________\n"
     ]
    },
    {
     "ename": "NameError",
     "evalue": "name 'train_aug_gen' is not defined",
     "output_type": "error",
     "traceback": [
      "\u001b[1;31m---------------------------------------------------------------------------\u001b[0m",
      "\u001b[1;31mNameError\u001b[0m                                 Traceback (most recent call last)",
      "Cell \u001b[1;32mIn[3], line 21\u001b[0m\n\u001b[0;32m     12\u001b[0m vgg_model\u001b[38;5;241m.\u001b[39mcompile(\n\u001b[0;32m     13\u001b[0m     optimizer\u001b[38;5;241m=\u001b[39mtf\u001b[38;5;241m.\u001b[39moptimizers\u001b[38;5;241m.\u001b[39mRMSprop(lr\u001b[38;5;241m=\u001b[39m\u001b[38;5;241m2e-4\u001b[39m),\n\u001b[0;32m     14\u001b[0m     loss\u001b[38;5;241m=\u001b[39mtf\u001b[38;5;241m.\u001b[39mlosses\u001b[38;5;241m.\u001b[39mCategoricalCrossentropy(),\n\u001b[0;32m     15\u001b[0m     metrics\u001b[38;5;241m=\u001b[39m[\u001b[38;5;124m'\u001b[39m\u001b[38;5;124maccuracy\u001b[39m\u001b[38;5;124m'\u001b[39m]\n\u001b[0;32m     16\u001b[0m )\n\u001b[0;32m     18\u001b[0m vgg_model\u001b[38;5;241m.\u001b[39msummary()\n\u001b[0;32m     20\u001b[0m vgg_fine_tune_list \u001b[38;5;241m=\u001b[39m vgg_model\u001b[38;5;241m.\u001b[39mfit_generator(\n\u001b[1;32m---> 21\u001b[0m     \u001b[43mtrain_aug_gen\u001b[49m,         \u001b[38;5;66;03m# 训练数据生成器\u001b[39;00m\n\u001b[0;32m     22\u001b[0m     steps_per_epoch\u001b[38;5;241m=\u001b[39m\u001b[38;5;241m30\u001b[39m,    \u001b[38;5;66;03m# 训练批次\u001b[39;00m\n\u001b[0;32m     23\u001b[0m     epochs\u001b[38;5;241m=\u001b[39m\u001b[38;5;241m30\u001b[39m,             \u001b[38;5;66;03m# 总共的训练轮数\u001b[39;00m\n\u001b[0;32m     24\u001b[0m     validation_data \u001b[38;5;241m=\u001b[39m valida_aug_gen,  \u001b[38;5;66;03m# 验证数据生成器\u001b[39;00m\n\u001b[0;32m     25\u001b[0m     validation_steps\u001b[38;5;241m=\u001b[39m\u001b[38;5;241m8\u001b[39m    \u001b[38;5;66;03m# 验证批次\u001b[39;00m\n\u001b[0;32m     26\u001b[0m )\n",
      "\u001b[1;31mNameError\u001b[0m: name 'train_aug_gen' is not defined"
     ]
    }
   ],
   "source": [
    "L = keras.layers\n",
    "\n",
    "vgg_model = keras.Sequential([\n",
    "    vgg_base,\n",
    "    L.Flatten(),\n",
    "    L.Dense(512, activation=tf.nn.relu),\n",
    "    L.Dropout(0.5),\n",
    "    L.Dense(5, activation=tf.nn.softmax)\n",
    "])\n",
    "\n",
    "# 这里一顶要1用很小的学习率，不然会破坏最后一层的权重，达不到微调的效果\n",
    "vgg_model.compile(\n",
    "    optimizer=tf.optimizers.RMSprop(learning_rate=2e-4),\n",
    "    loss=tf.losses.CategoricalCrossentropy(),\n",
    "    metrics=['accuracy']\n",
    ")\n",
    "\n",
    "vgg_model.summary()\n",
    "\n",
    "vgg_fine_tune_list = vgg_model.fit_generator(\n",
    "    train_aug_gen,         # 训练数据生成器\n",
    "    steps_per_epoch=30,    # 训练批次\n",
    "    epochs=30,             # 总共的训练轮数\n",
    "    validation_data = valida_aug_gen,  # 验证数据生成器\n",
    "    validation_steps=8    # 验证批次\n",
    ")"
   ]
  },
  {
   "cell_type": "code",
   "execution_count": null,
   "id": "65299895-3065-4171-9842-954307c42f1c",
   "metadata": {},
   "outputs": [],
   "source": []
  }
 ],
 "metadata": {
  "kernelspec": {
   "display_name": "Python 3 (ipykernel)",
   "language": "python",
   "name": "python3"
  },
  "language_info": {
   "codemirror_mode": {
    "name": "ipython",
    "version": 3
   },
   "file_extension": ".py",
   "mimetype": "text/x-python",
   "name": "python",
   "nbconvert_exporter": "python",
   "pygments_lexer": "ipython3",
   "version": "3.9.17"
  }
 },
 "nbformat": 4,
 "nbformat_minor": 5
}
