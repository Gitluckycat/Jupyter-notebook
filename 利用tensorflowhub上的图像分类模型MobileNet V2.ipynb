{
 "cells": [
  {
   "cell_type": "code",
   "execution_count": null,
   "id": "c7ce9b18-a536-4c3c-867e-9fe9e01eccd7",
   "metadata": {},
   "outputs": [],
   "source": [
    "import tensorflow as tf\n",
    "import tensorflow_hub as  hub\n",
    "from tensorflow import keras\n",
    "\n",
    "MODEL_PATH = 'https://hub.tensorflow.google.cn/google/imagenet/mobilenet_v2_100_192/classification/4'\n",
    "L = keras.layers\n",
    "\n",
    "hub_model = tf.keras.Sequential([\n",
    "    # 初始化MobileNet层\n",
    "    hub.KerasLayer(MODEL_PATH,\n",
    "                  input_shape=(192, 192, 3),\n",
    "                  trainable=True),\n",
    "    # 在MobileNet层后面添加分类层\n",
    "    L.Dense(512, activation=tf.nn.relu),\n",
    "    L.Dropout(0.5),\n",
    "    L.Dense(5, activation=tf.nn.softmax)\n",
    "])\n",
    "\n",
    "hub_model.compile(\n",
    "    optimizer=tf.optimizers.RMSProp(learning_rate=2e-4),\n",
    "    loss=tf.losses.CategoricalCrossentropy(),\n",
    "    metrics=['accuracy']\n",
    ")\n",
    "\n",
    "hug_model_his = hub_model.fit(\n",
    "    train_aug_gen,               # 训练数据生成器\n",
    "    steps_per_epoch=30,          # 训练批次\n",
    "    epochs=30,                   # 总共的训练轮数\n",
    "    validation_data=valid_aug_gen# 验证数据生成器\n",
    "    validation_steps=8           # 验证批次\n",
    ")"
   ]
  }
 ],
 "metadata": {
  "kernelspec": {
   "display_name": "Python 3 (ipykernel)",
   "language": "python",
   "name": "python3"
  },
  "language_info": {
   "codemirror_mode": {
    "name": "ipython",
    "version": 3
   },
   "file_extension": ".py",
   "mimetype": "text/x-python",
   "name": "python",
   "nbconvert_exporter": "python",
   "pygments_lexer": "ipython3",
   "version": "3.9.17"
  }
 },
 "nbformat": 4,
 "nbformat_minor": 5
}
