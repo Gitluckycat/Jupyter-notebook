{
 "cells": [
  {
   "cell_type": "code",
   "execution_count": 1,
   "id": "28e84552",
   "metadata": {},
   "outputs": [
    {
     "name": "stderr",
     "output_type": "stream",
     "text": [
      "C:\\Users\\lenovo\\AppData\\Local\\Temp\\ipykernel_25188\\2866555618.py:55: FutureWarning: The default value of numeric_only in DataFrame.corr is deprecated. In a future version, it will default to False. Select only valid columns or specify the value of numeric_only to silence this warning.\n",
      "  corr = wm_data.corr()\n"
     ]
    },
    {
     "data": {
      "text/html": [
       "<div>\n",
       "<style scoped>\n",
       "    .dataframe tbody tr th:only-of-type {\n",
       "        vertical-align: middle;\n",
       "    }\n",
       "\n",
       "    .dataframe tbody tr th {\n",
       "        vertical-align: top;\n",
       "    }\n",
       "\n",
       "    .dataframe thead th {\n",
       "        text-align: right;\n",
       "    }\n",
       "</style>\n",
       "<table border=\"1\" class=\"dataframe\">\n",
       "  <thead>\n",
       "    <tr style=\"text-align: right;\">\n",
       "      <th></th>\n",
       "      <th>密度</th>\n",
       "      <th>含糖率</th>\n",
       "    </tr>\n",
       "  </thead>\n",
       "  <tbody>\n",
       "    <tr>\n",
       "      <th>密度</th>\n",
       "      <td>1.000000</td>\n",
       "      <td>0.195889</td>\n",
       "    </tr>\n",
       "    <tr>\n",
       "      <th>含糖率</th>\n",
       "      <td>0.195889</td>\n",
       "      <td>1.000000</td>\n",
       "    </tr>\n",
       "  </tbody>\n",
       "</table>\n",
       "</div>"
      ],
      "text/plain": [
       "           密度       含糖率\n",
       "密度   1.000000  0.195889\n",
       "含糖率  0.195889  1.000000"
      ]
     },
     "execution_count": 1,
     "metadata": {},
     "output_type": "execute_result"
    }
   ],
   "source": [
    "import numpy as np\n",
    "import matplotlib.pyplot as plt\n",
    "import pandas as pd\n",
    "from sklearn import datasets\n",
    "from sklearn import utils\n",
    "from sklearn.model_selection import train_test_split\n",
    "from sklearn.preprocessing import LabelEncoder\n",
    "import pylab as mpl\n",
    "\n",
    "mpl.rcParams['font.sans-serif'] = ['SimHei']\n",
    "mpl.rcParams['axes.unicode_minus'] = False\n",
    "\n",
    "data = pd.read_csv(r\"C:\\Users\\lenovo\\Desktop\\3.0.csv\")\n",
    "wm_data = utils.shuffle(data)\n",
    "\n",
    "\n",
    "Y = wm_data[\"好瓜\"].values\n",
    "X = wm_data.drop(\"好瓜\", axis=1).values\n",
    "encoder = LabelEncoder()\n",
    "y_label = encoder.fit_transform(Y)\n",
    "\n",
    "\n",
    "feature_list = list(wm_data.columns[1:len(wm_data.columns)-1])\n",
    "target_names = wm_data.columns[len(wm_data.columns)-1]\n",
    "\n",
    "# print(wm_data[feature_list[0]])\n",
    "# print(wm_data.head())\n",
    "# print(wm_data.describe())\n",
    "\n",
    "\n",
    "x_train, x_test, y_train, y_test = train_test_split(X, Y, test_size=0.3, random_state=1)\n",
    "\n",
    "\n",
    "# def plot_scatter(wm_data):\n",
    "#     plt.figure(figsize=(16, 10))\n",
    "#     for i in range(6):\n",
    "#         for j in range(6):\n",
    "#             plt.subplot(6, 6, i*6+j+1)\n",
    "#             if i == j:\n",
    "#                 plt.hist(X[:, i+1], color='gray')\n",
    "#                 plt.xlabel(feature_list[i])\n",
    "#\n",
    "#             else:\n",
    "#                 plt.scatter(X[:, j+1], X[:, i+1], c=y_label, cmap='brg')\n",
    "#                 plt.xlabel(feature_list[j])\n",
    "#                 plt.ylabel(feature_list[i])\n",
    "#     plt.suptitle('Pairwise scatter plot of watermelon features')\n",
    "#     plt.tight_layout()\n",
    "#     plt.show()\n",
    "#\n",
    "#\n",
    "# plot_scatter(wm_data)\n",
    "\n",
    "wm_data.drop(['编号'], axis=1, inplace=True)\n",
    "corr = wm_data.corr()\n",
    "corr\n"
   ]
  },
  {
   "cell_type": "code",
   "execution_count": null,
   "id": "ffc2f34f",
   "metadata": {},
   "outputs": [],
   "source": []
  }
 ],
 "metadata": {
  "kernelspec": {
   "display_name": "Python 3 (ipykernel)",
   "language": "python",
   "name": "python3"
  },
  "language_info": {
   "codemirror_mode": {
    "name": "ipython",
    "version": 3
   },
   "file_extension": ".py",
   "mimetype": "text/x-python",
   "name": "python",
   "nbconvert_exporter": "python",
   "pygments_lexer": "ipython3",
   "version": "3.9.17"
  }
 },
 "nbformat": 4,
 "nbformat_minor": 5
}
