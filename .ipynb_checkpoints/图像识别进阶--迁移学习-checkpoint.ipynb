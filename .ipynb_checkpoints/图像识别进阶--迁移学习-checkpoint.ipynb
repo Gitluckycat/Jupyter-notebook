{
 "cells": [
  {
   "attachments": {},
   "cell_type": "markdown",
   "id": "2557a87d-3071-4d84-9338-85fcd042535b",
   "metadata": {},
   "source": [
    "VGG16模型可以分成5个卷积块和3个全连接层\n"
   ]
  },
  {
   "cell_type": "code",
   "execution_count": null,
   "id": "803a169a-a050-4952-a735-b7829d42ca98",
   "metadata": {},
   "outputs": [],
   "source": [
    "#特征提取就是使用预训练的模型抽象化输入特征（把输入转换成对应的张量）\n",
    "import tensorflow as tf\n",
    "from tensorflow import keras\n",
    "from tensorflow.keras.applications import VGG16\n",
    "\n",
    "vgg_base = VGG16(weights=\"imagenet\",      # 加载imagenet权重\n",
    "                include_top=False,        # 是否包含模型最后的分类器\n",
    "                input_shape=(192,192,3))  # 输入图像的尺寸\n",
    "\n",
    "vgg_base.summary()\n"
   ]
  },
  {
   "cell_type": "code",
   "execution_count": null,
   "id": "4c2aa223-3dee-4c20-b1fe-e437c37aceec",
   "metadata": {},
   "outputs": [],
   "source": [
    "#冻结卷积基中的所有层\n",
    "#注意，在修改模型的层的层trainable属性后，需要重新编译模型，否则不会生效\n",
    "for layer in vgg_base.layers:\n",
    "    layer.trainable = False\n",
    "\n",
    "\n",
    "# 创建新模型\n",
    "feature_extract_model = keras.Sequential([\n",
    "    vgg_base,   # 使用卷积基模型作为第一层，相当于把这个模型中的所有的层加到新模型中\n",
    "    L.Flatten(),\n",
    "    L.Dense(64, activation=tf.nn.relu),\n",
    "    L.Dropout(0.5),\n",
    "    L.Dense(5, activation=tf.nn.softmax)\n",
    "])\n",
    "\n",
    "feature_extract_model.compile(\n",
    "    optimizer = tf.optimizers.RMSprop(lr=2e-4),\n",
    "    loss = tf.losses.CategoricalCrosssentropy(),\n",
    "    metrics = ['accuracy']\n",
    ")\n",
    "\n",
    "feature_extract_model.summary()"
   ]
  },
  {
   "cell_type": "code",
   "execution_count": null,
   "id": "38f95e87-9190-4ec3-b0cb-936cf955911e",
   "metadata": {},
   "outputs": [],
   "source": [
    "vgg_feature_extract_hist = feature_extract_model.fit_generator(\n",
    "    train_aug_gen,   # 训练数据生成器\n",
    "    steps_per_epoch = 30,  # 训练批次\n",
    "    epochs=30,      # 总共训练轮数\n",
    "    validation_data=valid_aug_gen,  #验证数据生成器\n",
    "    validation_steps=8   #验证批次\n",
    ")"
   ]
  },
  {
   "cell_type": "code",
   "execution_count": null,
   "id": "78b82f95-5fd6-43b6-a4b6-3c6c6423e8b8",
   "metadata": {},
   "outputs": [],
   "source": []
  },
  {
   "cell_type": "code",
   "execution_count": null,
   "id": "dd7b9a85-0bea-49e7-9bcb-8c1487e5db0a",
   "metadata": {},
   "outputs": [],
   "source": []
  },
  {
   "cell_type": "code",
   "execution_count": null,
   "id": "f719d601-7fac-46e2-b6b1-275f2f5d2b24",
   "metadata": {},
   "outputs": [],
   "source": []
  }
 ],
 "metadata": {
  "kernelspec": {
   "display_name": "Python 3 (ipykernel)",
   "language": "python",
   "name": "python3"
  },
  "language_info": {
   "codemirror_mode": {
    "name": "ipython",
    "version": 3
   },
   "file_extension": ".py",
   "mimetype": "text/x-python",
   "name": "python",
   "nbconvert_exporter": "python",
   "pygments_lexer": "ipython3",
   "version": "3.9.17"
  }
 },
 "nbformat": 4,
 "nbformat_minor": 5
}
