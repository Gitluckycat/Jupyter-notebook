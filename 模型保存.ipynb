{
 "cells": [
  {
   "cell_type": "code",
   "execution_count": null,
   "id": "20a58def-8cfa-4e7b-ad61-27832ca4d61b",
   "metadata": {},
   "outputs": [],
   "source": [
    "import json\n",
    "\n",
    "# 创建目录\n",
    "model_folder = pathlib.Path(\"outputs/flower_recognizer/vgg_based\")\n",
    "model_folder.mkdir(parents=True, exist_ok=True)\n",
    "\n",
    "# 保存模型\n",
    "feature_extract_model.save(os.path.join(model_folder, 'model.h5'))\n",
    "with open(os.path.join(model_folder, 'label2idx.json'), 'w')  as f:\n",
    "    f.write(json.dumps(train_aug_gen.class_indices))"
   ]
  }
 ],
 "metadata": {
  "kernelspec": {
   "display_name": "Python 3 (ipykernel)",
   "language": "python",
   "name": "python3"
  },
  "language_info": {
   "codemirror_mode": {
    "name": "ipython",
    "version": 3
   },
   "file_extension": ".py",
   "mimetype": "text/x-python",
   "name": "python",
   "nbconvert_exporter": "python",
   "pygments_lexer": "ipython3",
   "version": "3.9.17"
  }
 },
 "nbformat": 4,
 "nbformat_minor": 5
}
