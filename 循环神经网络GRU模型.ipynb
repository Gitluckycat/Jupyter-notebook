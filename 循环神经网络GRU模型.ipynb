{
 "cells": [
  {
   "cell_type": "code",
   "execution_count": 1,
   "id": "54c48e5d",
   "metadata": {},
   "outputs": [],
   "source": [
    "import matplotlib.pyplot as plt\n",
    "import seaborn as sns \n",
    "import numpy as np\n",
    "import pandas as pd\n",
    "import os\n",
    "import math\n",
    "from sklearn.preprocessing import StandardScaler, MinMaxScaler\n",
    "from sklearn.preprocessing import OneHotEncoder\n",
    "from sklearn.impute import SimpleImputer\n",
    "import tensorflow as tf\n",
    "from tensorflow.keras import metrics\n",
    "from tensorflow.keras import regularizers\n",
    "from tensorflow.keras.models import Sequential\n",
    "from tensorflow.keras.layers import Input, Dense, GRU, Embedding, BatchNormalization\n",
    "from tensorflow.keras.layers import Conv2D, MaxPooling2D, Dropout, Flatten, Activation\n",
    "from tensorflow.keras.optimizers import RMSprop, Adam, Nadam, SGD, Adadelta\n",
    "from tensorflow.keras.callbacks import EarlyStopping, ModelCheckpoint, TensorBoard, ReduceLROnPlateau\n",
    "from tensorflow.keras.backend import square, mean\n",
    "from tensorflow.keras.models import load_model\n",
    "\n"
   ]
  },
  {
   "cell_type": "code",
   "execution_count": 3,
   "id": "bdd74900",
   "metadata": {},
   "outputs": [],
   "source": [
    "#loss_mse_warmup函数功能是将去掉的一部分热启动所需消耗数据后的剩余数据进行mse评价\n",
    "def loss_mse_warmup(y_true, y_pred):\n",
    "    y_true_slice = y_true[:,warmup_steps:,:]\n",
    "    y_pred_slice = y_pred[:,warmup_steps:,:]\n",
    "    mse = mean(square(y_true_slice-y_pred_silce))\n",
    "    return mse"
   ]
  },
  {
   "cell_type": "code",
   "execution_count": 4,
   "id": "73ec00e5",
   "metadata": {},
   "outputs": [],
   "source": [
    "def run_model_gru_sigmoid_1(num_x_events, num_y_events):\n",
    "    model = Sequential()\n",
    "    model.add(GRU(units=128, return_sequences=True,\n",
    "                 input_shape=(None, num_x_events,)))\n",
    "    model.add(BatchNormalization())\n",
    "    model.add(GRU(units=64,return_sequences=True))\n",
    "    model.add(BatchNormalization())\n",
    "    model.add(Dense(num_y_events, activation='sigmoid'))\n",
    "    model.summary()\n",
    "    return model"
   ]
  },
  {
   "cell_type": "code",
   "execution_count": 1,
   "id": "29a2afe3",
   "metadata": {},
   "outputs": [],
   "source": [
    "#批生成器\n",
    "def batch_generator(batch_size, sequence_length):\n",
    "    while True:\n",
    "        x_shape = (batch_size, sequence_length, num_x_events)\n",
    "        x_batch = np.zeros(shape=x_shape, dtype=np.float16)\n",
    "        \n",
    "        y_shape = (batch_size, sequence_length, num_y_events)\n",
    "        y_batch =  np.zeros(shape=y_shape, dtype=np.float16)\n",
    "        \n",
    "        for i in range(batch_size):\n",
    "            idx = np.random.randint(num_train - sequence_length)\n",
    "            \n",
    "            x_batch[i] = x_train_scaled[idx:idx+sequence_length]\n",
    "            y_batch[i] = y_train_scaled[idx:idx+sequence_length]\n",
    "            \n",
    "        yield(x_batch, y_batch)"
   ]
  },
  {
   "cell_type": "code",
   "execution_count": 2,
   "id": "017757e8",
   "metadata": {},
   "outputs": [
    {
     "ename": "NameError",
     "evalue": "name 'batch_size' is not defined",
     "output_type": "error",
     "traceback": [
      "\u001b[1;31m---------------------------------------------------------------------------\u001b[0m",
      "\u001b[1;31mNameError\u001b[0m                                 Traceback (most recent call last)",
      "\u001b[1;32m~\\AppData\\Local\\Temp\\ipykernel_13088\\240901608.py\u001b[0m in \u001b[0;36m<module>\u001b[1;34m\u001b[0m\n\u001b[1;32m----> 1\u001b[1;33m \u001b[0mgenerator\u001b[0m \u001b[1;33m=\u001b[0m \u001b[0mbatch_generator\u001b[0m\u001b[1;33m(\u001b[0m\u001b[0mbatch_size\u001b[0m\u001b[1;33m=\u001b[0m\u001b[0mbatch_size\u001b[0m\u001b[1;33m,\u001b[0m \u001b[0msequence_length\u001b[0m\u001b[1;33m=\u001b[0m\u001b[0msequence_length\u001b[0m\u001b[1;33m)\u001b[0m\u001b[1;33m\u001b[0m\u001b[1;33m\u001b[0m\u001b[0m\n\u001b[0m\u001b[0;32m      2\u001b[0m validation_data = (np.expand_dims(x_test_scaled, axis=0), \n\u001b[0;32m      3\u001b[0m                   np.expand_dims(y_test_scaled, axis=0))\n",
      "\u001b[1;31mNameError\u001b[0m: name 'batch_size' is not defined"
     ]
    }
   ],
   "source": [
    "generator = batch_generator(batch_size=batch_size, sequence_length=sequence_length)\n",
    "validation_data = (np.expand_dims(x_test_scaled, axis=0), \n",
    "                  np.expand_dims(y_test_scaled, axis=0))\n",
    "\n",
    "perform_indics = model.fit(x=generator,\n",
    "                          epochs=epochs,\n",
    "                          steps_per_epoch=steps_per_epoch,\n",
    "                          validation_data=validation_data,\n",
    "                          callbacks=keras_callbacks,\n",
    "                          verbose=2)"
   ]
  },
  {
   "cell_type": "code",
   "execution_count": 3,
   "id": "e1994228",
   "metadata": {},
   "outputs": [],
   "source": [
    "#将训练时打包处理的数据生成的片段历史记录重新连接起来变成连续完成的时间序列\n",
    "def collect_hist(accum_hist, next_hist):\n",
    "    keys = list(next_hist.keys())\n",
    "    for k in keys:\n",
    "        if k in accum_hist:\n",
    "            accum_hist[k].extend(next_hist[k])\n",
    "        else:\n",
    "            accum_hist[k] = next_hist[k]\n",
    "            \n",
    "        return accum_hist"
   ]
  },
  {
   "cell_type": "code",
   "execution_count": null,
   "id": "967aa831",
   "metadata": {},
   "outputs": [],
   "source": [
    "def plot_hist(h, xsize=6, ysize=5):\n",
    "    fig_size=plt.rcParams['figure.figsize']\n",
    "    plt.rcParams['figure.figsize'] =[xsize, ysize]\n",
    "    \n",
    "    ks = list(h.keys())\n",
    "    n2 = math.floor(len(ks)/2)\n",
    "    train_keys = ks[0:n2]\n",
    "    valid_keys = ks[n2:2*n2]\n",
    "    \n",
    "    for i in range(n2):\n",
    "        plt.plot(h[train_keys[i]])\n",
    "        plt.plot(h[valid_keys[i]])\n",
    "        plt.title(\"Training vs Validation\" + train_keys[i])\n",
    "        plt.ylabel(train_keys[i])\n",
    "        plt.xlabel('Epoch')\n",
    "        plt.legend(['Train', 'Validation'], loc='upper left')\n",
    "        plt.draw()\n",
    "        plt.show()\n",
    "        \n",
    "    return "
   ]
  }
 ],
 "metadata": {
  "kernelspec": {
   "display_name": "Python 3 (ipykernel)",
   "language": "python",
   "name": "python3"
  },
  "language_info": {
   "codemirror_mode": {
    "name": "ipython",
    "version": 3
   },
   "file_extension": ".py",
   "mimetype": "text/x-python",
   "name": "python",
   "nbconvert_exporter": "python",
   "pygments_lexer": "ipython3",
   "version": "3.9.13"
  }
 },
 "nbformat": 4,
 "nbformat_minor": 5
}
