{
 "cells": [
  {
   "cell_type": "code",
   "execution_count": null,
   "id": "160923a5",
   "metadata": {},
   "outputs": [],
   "source": [
    "class ResidualUnit(keras.layers.Layer):\n",
    "    def __init__(self,filters,strides=1,activation=\"relu\",**kwargs):\n",
    "        super().__init__(**kwargs)\n",
    "        self.activation=keras.activation.get(activation)\n",
    "        self.main_layers=[\n",
    "            keras.layers.Conv2D(filters,3,strides=strides,\n",
    "                               padding=\"same\",use_bias=False),\n",
    "            keras.layers.BatchNormalization(),\n",
    "            self.activation,\n",
    "            keras.layers.Conv2D(filters,3,strides=1,padding=\"same\",use_bias=False),\n",
    "            keras.layers.BatchNormalization()\n",
    "        ]\n",
    "        self.skip_layers=[]\n",
    "        if strides>1:\n",
    "            self.skip_layers=[\n",
    "                keras.layers.Conv2D(filters,1,strides=strides,\n",
    "                                   padding=\"same\",use_bias=False),\n",
    "                keras.layers.BatchNormalization()\n",
    "            ]\n",
    "    def __call__(self,inputs):\n",
    "        Z=inputs\n",
    "        for layer in self.main_layers:\n",
    "            Z=layer(Z)\n",
    "        skip_Z=inputs\n",
    "        for layer in self.skip_layers:\n",
    "            skip_Z=layer(skip_Z)\n",
    "        return self.activation(Z+skip_Z)\n",
    "model=keras.models.Sequential()\n",
    "model.add(keras.layers.Conv2D(64,7,strides=2,input_shape=[224,224,3],\n",
    "                             padding=\"same\",use_bias=False))\n",
    "model.add(keras.layers.BatchNormalization())\n",
    "model.add(keras.layers.Activation(\"relu\"))\n",
    "model.add(keras.layers.MaxPool2D(pool_size=3,strides=2,padding=\"same\"))\n",
    "prev_filters=64\n",
    "for filters in [64]*3+[128]*4+[256]*6+[512]*3:\n",
    "    strides=1 if filters==prev_filters else 2\n",
    "    model.add(ResidualUnit(filters,strides=strides))\n",
    "    prev_filters=filters\n",
    "model.add(keras.layers.GlobalAvgPool2D())\n",
    "model.add(keras.layers.Flatten())\n",
    "model.add(keras.layers.Dense(10,activation=\"softmax\"))\n"
   ]
  }
 ],
 "metadata": {
  "kernelspec": {
   "display_name": "Python 3 (ipykernel)",
   "language": "python",
   "name": "python3"
  },
  "language_info": {
   "codemirror_mode": {
    "name": "ipython",
    "version": 3
   },
   "file_extension": ".py",
   "mimetype": "text/x-python",
   "name": "python",
   "nbconvert_exporter": "python",
   "pygments_lexer": "ipython3",
   "version": "3.9.13"
  }
 },
 "nbformat": 4,
 "nbformat_minor": 5
}
