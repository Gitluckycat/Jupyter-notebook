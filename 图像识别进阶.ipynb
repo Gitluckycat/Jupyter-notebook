{
 "cells": [
  {
   "cell_type": "code",
   "execution_count": null,
   "id": "d635a918-37ba-4075-a70c-a3192dbee341",
   "metadata": {},
   "outputs": [],
   "source": [
    "import os, shutil\n",
    "import pathlib\n",
    "import random\n",
    "import IPython.display as display\n",
    "from sklearn.model_selection import train_test_split\n",
    "\n",
    "data_root = pathlib.Path()\n",
    "for item in data_root.iterdir():\n",
    "    print(item)\n",
    "\n",
    "all_image_paths = list(data_root.glob('*/*'))"
   ]
  }
 ],
 "metadata": {
  "kernelspec": {
   "display_name": "Python 3 (ipykernel)",
   "language": "python",
   "name": "python3"
  },
  "language_info": {
   "codemirror_mode": {
    "name": "ipython",
    "version": 3
   },
   "file_extension": ".py",
   "mimetype": "text/x-python",
   "name": "python",
   "nbconvert_exporter": "python",
   "pygments_lexer": "ipython3",
   "version": "3.9.17"
  }
 },
 "nbformat": 4,
 "nbformat_minor": 5
}
