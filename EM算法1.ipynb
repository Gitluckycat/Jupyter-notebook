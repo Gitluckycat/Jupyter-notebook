{
 "cells": [
  {
   "cell_type": "code",
   "execution_count": 10,
   "id": "67c41a7f",
   "metadata": {},
   "outputs": [],
   "source": [
    "import numpy as np\n",
    "import csv\n",
    "import timeit\n",
    "#正态分布的总体和均值\n",
    "mu = [165, 175]\n",
    "sigma = [6, 5]\n",
    "# 两类比例，分别是男性，女性\n",
    "alpha_init = (0.5, 0.5)\n",
    "# 返回一个数 正态分布函数的密度\n",
    "def normal_pdf(x, mu_num, sigma_num):\n",
    "    temp = np.exp(-((x-mu_num)**2)/(2*sigma_num**2)) / (sigma_num*np.sqrt(2*np.pi))\n",
    "    return temp"
   ]
  },
  {
   "cell_type": "code",
   "execution_count": 11,
   "id": "6f3a9f07",
   "metadata": {},
   "outputs": [],
   "source": [
    "def EucliDis(x, y):\n",
    "    \"\"\"\n",
    "    作用：计算二范数，即两个列表/向量之间的距离\n",
    "    \"\"\"\n",
    "    d = np.sqrt(sum([(argu1 - argu2)**2 for argu1, argu2 in zip(x, y)]))\n",
    "    return d"
   ]
  },
  {
   "cell_type": "code",
   "execution_count": 12,
   "id": "f6f91204",
   "metadata": {},
   "outputs": [],
   "source": [
    "def alpha_update(gamma):\n",
    "    \"\"\"\n",
    "    作用：更新响应度\n",
    "    原理：根据上一步的响应度，来计算新的迭代值\n",
    "    \"\"\"\n",
    "    alpha_new = gamma.mean(axis=0)\n",
    "    return alpha_new"
   ]
  },
  {
   "cell_type": "code",
   "execution_count": 15,
   "id": "bcfd6aad",
   "metadata": {},
   "outputs": [],
   "source": [
    "def EM(mu, sigma, alpha=alpha_init, EPSILON=0.001):\n",
    "    \"\"\"\n",
    "    mu:各总体的均值\n",
    "    sigma：各总体的标准差\n",
    "    alpha：隐含变量的初值\n",
    "    EPSILON：两次迭代，距离小于这个数，跳出循环\n",
    "    \"\"\"\n",
    "    # 每个身高，每一个种类的概率密度函数值，直接根据身高数据全部算出来，没有设定函数\n",
    "    # N是样本数量， J是类别个数\n",
    "    PDF = np.zeros((N,J))\n",
    "    for i,height in enumerate(Mixed_height):\n",
    "        for j in range(J):\n",
    "            PDF[i, j] = normal_pdf(height, mu[j], sigma[j])\n",
    "    # ------E步，求期望----------\n",
    "    # 不同类，不同参数，具体的概率密度函数\n",
    "    def gammajk(i, j, alpha):\n",
    "        \"\"\"\n",
    "        作用：计算分模型j对观测数据height[i]的响应度\n",
    "        i：第i个身高数据\n",
    "        j：假设这个身高数据所属的模型类别j\n",
    "        \"\"\"\n",
    "        p_multi = 0\n",
    "        for jj in range(J):\n",
    "            p_multi += alpha[jj]*PDF[i, jj]\n",
    "        temp = alpha[j]*PFD[i,j]\n",
    "        return temp/p_multi\n",
    "    \n",
    "    # 迭代，第t步和第t+1步之间怎么继承上一步\n",
    "    alpha_cur = list(alpha_init) #将之前的元组 -->列表\n",
    "    alpha_new = [0.4, 0.6]      # 随便设置的跟上一步不同的数\n",
    "    \n",
    "    # ----------终止条件----------\n",
    "    while 1:\n",
    "        \"\"\"\n",
    "        作用：设置迭代循环，找到最优的参数\n",
    "        停止条件：两次迭代之间的距离小于EPSILON\n",
    "        \"\"\"\n",
    "        # 计算所有的响应度，方便以后计算，以及下次的更新\n",
    "        gamma = np.zeros((N, J))\n",
    "        for i in range(N):\n",
    "            for j in range(J):\n",
    "                gamma[i, j] = gammajk(i, j, alpha_cur)\n",
    "        \n",
    "        # ---------M步----------------\n",
    "        alpha_new = alpha_update(gamma)  #更新参数值\n",
    "        \n",
    "        #  判断条件\n",
    "        if EucliDis(alpha_cur, alpha_new) < EPSILON:\n",
    "            break\n",
    "        alpha_cur = alpha_new  #将新的参数传到alpha_cur中，方便进行下次迭代\n",
    "    return alpha_new"
   ]
  },
  {
   "cell_type": "code",
   "execution_count": 14,
   "id": "51478c86",
   "metadata": {},
   "outputs": [],
   "source": []
  },
  {
   "cell_type": "code",
   "execution_count": null,
   "id": "c6eaa7c4",
   "metadata": {},
   "outputs": [],
   "source": []
  }
 ],
 "metadata": {
  "kernelspec": {
   "display_name": "Python 3 (ipykernel)",
   "language": "python",
   "name": "python3"
  },
  "language_info": {
   "codemirror_mode": {
    "name": "ipython",
    "version": 3
   },
   "file_extension": ".py",
   "mimetype": "text/x-python",
   "name": "python",
   "nbconvert_exporter": "python",
   "pygments_lexer": "ipython3",
   "version": "3.9.17"
  }
 },
 "nbformat": 4,
 "nbformat_minor": 5
}
