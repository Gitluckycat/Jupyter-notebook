{
 "cells": [
  {
   "cell_type": "code",
   "execution_count": 2,
   "id": "7c8ce7cc",
   "metadata": {},
   "outputs": [
    {
     "ename": "SyntaxError",
     "evalue": "invalid syntax (1337363599.py, line 14)",
     "output_type": "error",
     "traceback": [
      "\u001b[1;36m  Cell \u001b[1;32mIn[2], line 14\u001b[1;36m\u001b[0m\n\u001b[1;33m    sum + = prior[k]*p\u001b[0m\n\u001b[1;37m          ^\u001b[0m\n\u001b[1;31mSyntaxError\u001b[0m\u001b[1;31m:\u001b[0m invalid syntax\n"
     ]
    }
   ],
   "source": [
    "import numpy as np\n",
    "from scipy.stats import multrivariate_normal # 多元正态分布\n",
    "from numpy import genfromtxt  # 数据处理函数\n",
    "\n",
    "def Estep(X, prior, mu, sigma):\n",
    "    N, D = X.shape     # N表示数据的条数，D表示数据的维度\n",
    "    K = len(prior)    # 计算随机变量prior的长度\n",
    "    gama_mat = np.zeros((N, k))  # 初始化gama_mat为N行K列个0\n",
    "    for i in range(0, N):           \n",
    "        xi = X[i, :]            #对于每一行数据\n",
    "        sum = 0\n",
    "        for k in range(0, K):     #对k个prior求概率密度函数\n",
    "            p = multivariate_normal.pdf(xi, mu[k, :], sigma[k, :, :])  #计算第k个prior的概率密度p\n",
    "            sum + = prior[k]*p\n",
    "        for k in range(0, K):\n",
    "            gama_mat[i, k] = prior[k]*multivariate_normal.pdf(xi, mu[k, :], sigma[k, :, :]) / sum  #求gama_mat概率矩阵\n",
    "            \n",
    "    return gama_mat"
   ]
  },
  {
   "cell_type": "code",
   "execution_count": 4,
   "id": "1660c18c",
   "metadata": {},
   "outputs": [
    {
     "ename": "SyntaxError",
     "evalue": "invalid syntax (961369619.py, line 10)",
     "output_type": "error",
     "traceback": [
      "\u001b[1;36m  Cell \u001b[1;32mIn[4], line 10\u001b[1;36m\u001b[0m\n\u001b[1;33m    mu[k] + = gama_mat[i, k] * X[i]\u001b[0m\n\u001b[1;37m            ^\u001b[0m\n\u001b[1;31mSyntaxError\u001b[0m\u001b[1;31m:\u001b[0m invalid syntax\n"
     ]
    }
   ],
   "source": [
    "def Mstep(X, gama_mat):   # 将Estep得到的gama_mat，作为Mstep的输入参数\n",
    "    (N, D) = X.shape\n",
    "    K = np.size(gama_mat, 1)   # 返回gama_mat的列数\n",
    "    mu = np.zeors((K, D))\n",
    "    sigma = np.zeros((K, D, D))\n",
    "    prior = np.zeros(K)\n",
    "    for k in range(0, K):\n",
    "        N_k = np.sum(gama_mat, 0)[k]\n",
    "        for i in range(0, N):\n",
    "            mu[k] + = gama_mat[i, k] * X[i]\n",
    "        mu[k] /= N_k     # 得到均值矩阵\n",
    "        for i in range(0, N):\n",
    "            left = np.reshape((X[i] - mu[k]), (2, 1))\n",
    "            right = np.reshape((X[i] - mu[k]), (1, 2))\n",
    "            sigma[k] += gama_mat[i, k]*left*right  # 得到sigma矩阵\n",
    "        sigma[k] /= N_k\n",
    "        prior[k] = N_k/N\n",
    "        \n",
    "    return mu, sigma, prior  "
   ]
  },
  {
   "cell_type": "code",
   "execution_count": 5,
   "id": "c4f93b5d",
   "metadata": {},
   "outputs": [
    {
     "ename": "IndentationError",
     "evalue": "expected an indented block (2575087546.py, line 7)",
     "output_type": "error",
     "traceback": [
      "\u001b[1;36m  Cell \u001b[1;32mIn[5], line 7\u001b[1;36m\u001b[0m\n\u001b[1;33m    for i in range(N):\u001b[0m\n\u001b[1;37m                      ^\u001b[0m\n\u001b[1;31mIndentationError\u001b[0m\u001b[1;31m:\u001b[0m expected an indented block\n"
     ]
    }
   ],
   "source": [
    "def loglike(X, prior, Mu, Sigma):\n",
    "    K = len(prior)\n",
    "    N, M = np.shape(X)\n",
    "    \n",
    "    P = np.zeros([N, K])\n",
    "    for k in range(K):\n",
    "        for i in range(N):\n",
    "            P[i, k] = multivariate_normal.pdf(X[i], Mu[k, :], Sigma[k, :, :])  # p是一个N×K矩阵，其中（i，k）表示第i个数据点在第j个簇中的可能性\n",
    "            return np.sum(np.log(P.dot(prior)))"
   ]
  },
  {
   "cell_type": "code",
   "execution_count": null,
   "id": "fca79959",
   "metadata": {},
   "outputs": [],
   "source": []
  }
 ],
 "metadata": {
  "kernelspec": {
   "display_name": "Python 3 (ipykernel)",
   "language": "python",
   "name": "python3"
  },
  "language_info": {
   "codemirror_mode": {
    "name": "ipython",
    "version": 3
   },
   "file_extension": ".py",
   "mimetype": "text/x-python",
   "name": "python",
   "nbconvert_exporter": "python",
   "pygments_lexer": "ipython3",
   "version": "3.9.17"
  }
 },
 "nbformat": 4,
 "nbformat_minor": 5
}
